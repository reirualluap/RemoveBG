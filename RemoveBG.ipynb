{
  "nbformat": 4,
  "nbformat_minor": 0,
  "metadata": {
    "colab": {
      "provenance": [],
      "authorship_tag": "ABX9TyMydXZwutre0vEDDkspT4nj",
      "include_colab_link": true
    },
    "kernelspec": {
      "name": "python3",
      "display_name": "Python 3"
    },
    "language_info": {
      "name": "python"
    }
  },
  "cells": [
    {
      "cell_type": "markdown",
      "metadata": {
        "id": "view-in-github",
        "colab_type": "text"
      },
      "source": [
        "<a href=\"https://colab.research.google.com/github/reirualluap/RemoveBG/blob/main/RemoveBG.ipynb\" target=\"_parent\"><img src=\"https://colab.research.google.com/assets/colab-badge.svg\" alt=\"Open In Colab\"/></a>"
      ]
    },
    {
      "cell_type": "code",
      "source": [
        "!pip install rembg"
      ],
      "metadata": {
        "id": "5qtmiHttPune"
      },
      "execution_count": null,
      "outputs": []
    },
    {
      "cell_type": "code",
      "source": [
        "from rembg import remove\n",
        "import cv2\n",
        "from google.colab import files\n",
        "\n",
        "# Sélectionner les fichiers à traiter\n",
        "uploaded = files.upload()\n",
        "input_paths = list(uploaded.keys())\n",
        "\n",
        "for input_path in input_paths:\n",
        "  name = input_path.split('.')[0]\n",
        "  output_path = f\"{name}.png\"\n",
        "\n",
        "  # Charger l'image d'entrée\n",
        "  input = cv2.imread(input_path)\n",
        "\n",
        "  # Appliquer le traitement de détourage\n",
        "  output = remove(input)\n",
        "\n",
        "  # Enregistrer le résultat\n",
        "  cv2.imwrite(output_path, output)\n",
        "\n",
        "  # Télécharger le résultat\n",
        "  files.download(output_path)\n"
      ],
      "metadata": {
        "id": "wx9eIA4ZcsC8"
      },
      "execution_count": null,
      "outputs": []
    }
  ]
}